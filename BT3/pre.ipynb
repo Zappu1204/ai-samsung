{
 "cells": [
  {
   "cell_type": "code",
   "execution_count": 8,
   "metadata": {},
   "outputs": [
    {
     "name": "stdout",
     "output_type": "stream",
     "text": [
      "F1-score on validation set: 0.8243243243243243\n",
      "Predicted labels saved to Test_samsung_predicted.csv\n"
     ]
    }
   ],
   "source": [
    "import pandas as pd\n",
    "from sklearn.model_selection import train_test_split\n",
    "from sklearn.preprocessing import LabelEncoder, OneHotEncoder, StandardScaler\n",
    "from sklearn.impute import SimpleImputer\n",
    "from sklearn.ensemble import RandomForestClassifier\n",
    "from sklearn.metrics import f1_score\n",
    "\n",
    "def preprocess_data(df, label_encoders=None):\n",
    "    label_encoders = {} if label_encoders is None else label_encoders\n",
    "    for col in df.columns:\n",
    "        if df[col].dtype == 'object':\n",
    "            if col not in label_encoders:\n",
    "                le = LabelEncoder()\n",
    "                df[col] = le.fit_transform(df[col].astype(str))\n",
    "                label_encoders[col] = le\n",
    "            else:\n",
    "                le = label_encoders[col]\n",
    "                df[col] = le.transform(df[col].astype(str))\n",
    "\n",
    "    imputer = SimpleImputer(strategy='most_frequent')\n",
    "    df = pd.DataFrame(imputer.fit_transform(df), columns=df.columns)\n",
    "\n",
    "    scaler = StandardScaler()\n",
    "    df[['X6', 'X7', 'X8', 'X9', 'X10']] = scaler.fit_transform(df[['X6', 'X7', 'X8', 'X9', 'X10']])\n",
    "    \n",
    "    return df, label_encoders\n",
    "\n",
    "train_df = pd.read_csv(\"Train_samsung.csv\")\n",
    "test_df = pd.read_csv(\"Test_samsung_noclass.csv\")\n",
    "original_test_df = test_df.copy()\n",
    "\n",
    "train_df, label_encoders = preprocess_data(train_df)\n",
    "test_df, _ = preprocess_data(test_df, label_encoders) \n",
    "\n",
    "X = train_df.drop('Class', axis=1)\n",
    "y = train_df['Class']\n",
    "\n",
    "# Chia dữ liệu\n",
    "X_train, X_test, y_train, y_test = train_test_split(X, y, test_size=0.2, random_state=42)\n",
    "model = RandomForestClassifier(random_state=42)\n",
    "model.fit(X_train, y_train)\n",
    "\n",
    "y_pred_val = model.predict(X_test)\n",
    "\n",
    "# tính f1-score\n",
    "f1_val = f1_score(y_test, y_pred_val)\n",
    "print(f\"F1-score on validation set: {f1_val}\")\n",
    "# dự đoán nhãn cho tập test\n",
    "y_pred_test = model.predict(test_df)\n",
    "y_pred_test = y_pred_test.astype(int)\n",
    "le = label_encoders['Class']\n",
    "original_test_df['Class'] = le.inverse_transform(y_pred_test)\n",
    "\n",
    "original_test_df.to_csv(\"Test_samsung_predicted_ver_random_forest.csv\", index=False)\n",
    "\n",
    "print(\"Predicted labels saved to Test_samsung_predicted.csv\")"
   ]
  },
  {
   "cell_type": "code",
   "execution_count": 9,
   "metadata": {},
   "outputs": [
    {
     "name": "stdout",
     "output_type": "stream",
     "text": [
      "Accuracy: 0.7886\n",
      "F1 Score: 0.8571\n",
      "Precision: 0.7647\n",
      "Recall: 0.9750\n"
     ]
    }
   ],
   "source": [
    "import pandas as pd\n",
    "from sklearn.metrics import accuracy_score, f1_score, precision_score, recall_score\n",
    "\n",
    "# Đọc dữ liệu từ file dự đoán và file thực tế\n",
    "predicted_df = pd.read_csv(\"Test_samsung_predicted_ver_random_forest.csv\")\n",
    "real_df = pd.read_csv(\"Test_samsung.csv\") \n",
    "\n",
    "# Lấy cột 'Class' từ hai DataFrame\n",
    "y_pred = predicted_df['Class']\n",
    "y_true = real_df['Class']\n",
    "\n",
    "# Tính toán các chỉ số\n",
    "accuracy = accuracy_score(y_true, y_pred)\n",
    "f1 = f1_score(y_true, y_pred, pos_label='Y') # Giả sử 'Y' là lớp positive\n",
    "precision = precision_score(y_true, y_pred, pos_label='Y')\n",
    "recall = recall_score(y_true, y_pred, pos_label='Y')\n",
    "\n",
    "# In kết quả\n",
    "print(f\"Accuracy: {accuracy:.4f}\")\n",
    "print(f\"F1 Score: {f1:.4f}\")\n",
    "print(f\"Precision: {precision:.4f}\")\n",
    "print(f\"Recall: {recall:.4f}\")"
   ]
  }
 ],
 "metadata": {
  "kernelspec": {
   "display_name": "train",
   "language": "python",
   "name": "python3"
  },
  "language_info": {
   "codemirror_mode": {
    "name": "ipython",
    "version": 3
   },
   "file_extension": ".py",
   "mimetype": "text/x-python",
   "name": "python",
   "nbconvert_exporter": "python",
   "pygments_lexer": "ipython3",
   "version": "3.8.0"
  }
 },
 "nbformat": 4,
 "nbformat_minor": 2
}
